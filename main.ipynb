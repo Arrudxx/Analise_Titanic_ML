{
 "cells": [
  {
   "cell_type": "code",
   "execution_count": 124,
   "metadata": {},
   "outputs": [],
   "source": [
    "#Bibliotecas\n",
    "import pandas as pd\n",
    "from ydata_profiling import ProfileReport"
   ]
  },
  {
   "cell_type": "code",
   "execution_count": 125,
   "metadata": {},
   "outputs": [],
   "source": [
    "#importando Bases\n",
    "df_treino = pd.read_csv(r\"files\\train.csv\")\n",
    "df_teste = pd.read_csv(r\"files\\test.csv\")\n",
    "df_gender = pd.read_csv(r\"files\\gender_submission.csv\")"
   ]
  },
  {
   "cell_type": "markdown",
   "metadata": {},
   "source": [
    "**Analise da Base de Treino**"
   ]
  },
  {
   "cell_type": "code",
   "execution_count": 126,
   "metadata": {},
   "outputs": [
    {
     "name": "stderr",
     "output_type": "stream",
     "text": [
      "Summarize dataset: 100%|██████████| 47/47 [00:04<00:00,  9.81it/s, Completed]                       \n",
      "Generate report structure: 100%|██████████| 1/1 [00:05<00:00,  5.97s/it]\n",
      "Render HTML: 100%|██████████| 1/1 [00:01<00:00,  1.29s/it]\n",
      "Export report to file: 100%|██████████| 1/1 [00:00<00:00, 111.17it/s]\n"
     ]
    }
   ],
   "source": [
    "#Faço uma verificação dos dados com ydata_profiling\n",
    "profile = ProfileReport(df_treino, title=\"Titanic_Treino\")\n",
    "profile.to_file(\"titanic_treino.html\")"
   ]
  },
  {
   "cell_type": "code",
   "execution_count": 127,
   "metadata": {},
   "outputs": [
    {
     "data": {
      "text/plain": [
       "int64      5\n",
       "object     5\n",
       "float64    2\n",
       "Name: count, dtype: int64"
      ]
     },
     "execution_count": 127,
     "metadata": {},
     "output_type": "execute_result"
    }
   ],
   "source": [
    "#Verifico Tipos dos dados\n",
    "df_treino.dtypes.value_counts()"
   ]
  },
  {
   "cell_type": "code",
   "execution_count": 128,
   "metadata": {},
   "outputs": [
    {
     "data": {
      "text/plain": [
       "Cabin          687\n",
       "Age            177\n",
       "Embarked         2\n",
       "PassengerId      0\n",
       "Survived         0\n",
       "dtype: int64"
      ]
     },
     "execution_count": 128,
     "metadata": {},
     "output_type": "execute_result"
    }
   ],
   "source": [
    "#Verifico valores nulos\n",
    "df_treino.isnull().sum().sort_values(ascending=False).head(5)"
   ]
  },
  {
   "cell_type": "markdown",
   "metadata": {},
   "source": [
    "**Analise da Base de Treino**"
   ]
  },
  {
   "cell_type": "code",
   "execution_count": 129,
   "metadata": {},
   "outputs": [
    {
     "name": "stderr",
     "output_type": "stream",
     "text": [
      "Summarize dataset: 100%|██████████| 46/46 [00:04<00:00, 10.52it/s, Completed]                       \n",
      "Generate report structure: 100%|██████████| 1/1 [00:05<00:00,  5.55s/it]\n",
      "Render HTML: 100%|██████████| 1/1 [00:00<00:00,  1.14it/s]\n",
      "Export report to file: 100%|██████████| 1/1 [00:00<00:00, 167.13it/s]\n"
     ]
    }
   ],
   "source": [
    "#Faço uma verificação dos dados com ydata_profiling\n",
    "profile = ProfileReport(df_teste, title=\"Titanic_Teste\")\n",
    "profile.to_file(\"titanic_Teste.html\")"
   ]
  },
  {
   "cell_type": "code",
   "execution_count": 130,
   "metadata": {},
   "outputs": [
    {
     "data": {
      "text/plain": [
       "object     5\n",
       "int64      4\n",
       "float64    2\n",
       "Name: count, dtype: int64"
      ]
     },
     "execution_count": 130,
     "metadata": {},
     "output_type": "execute_result"
    }
   ],
   "source": [
    "#Verifico Tipos dos dados\n",
    "df_teste.dtypes.value_counts()"
   ]
  },
  {
   "cell_type": "code",
   "execution_count": 131,
   "metadata": {},
   "outputs": [
    {
     "data": {
      "text/plain": [
       "Cabin          327\n",
       "Age             86\n",
       "Fare             1\n",
       "PassengerId      0\n",
       "Pclass           0\n",
       "dtype: int64"
      ]
     },
     "execution_count": 131,
     "metadata": {},
     "output_type": "execute_result"
    }
   ],
   "source": [
    "#Verifico valores nulos\n",
    "df_teste.isnull().sum().sort_values(ascending=False).head(5)"
   ]
  },
  {
   "cell_type": "markdown",
   "metadata": {},
   "source": [
    "- Temos colunas que possuem Valores Nulos no Treino (Nesse caso, precisamos tratar essas colunas apenas na base de dados)"
   ]
  },
  {
   "cell_type": "markdown",
   "metadata": {},
   "source": [
    "**Tratando Dados**"
   ]
  },
  {
   "cell_type": "code",
   "execution_count": 132,
   "metadata": {},
   "outputs": [
    {
     "data": {
      "text/plain": [
       "(891, 12)"
      ]
     },
     "execution_count": 132,
     "metadata": {},
     "output_type": "execute_result"
    }
   ],
   "source": [
    "#Verifico valores nulos\n",
    "df_treino.isnull().sum().sort_values(ascending=False).head(5)\n",
    "df_treino.shape"
   ]
  },
  {
   "cell_type": "code",
   "execution_count": 133,
   "metadata": {},
   "outputs": [
    {
     "data": {
      "text/plain": [
       "PassengerId    891\n",
       "Name           891\n",
       "Ticket         681\n",
       "Fare           248\n",
       "Cabin          147\n",
       "Age             88\n",
       "SibSp            7\n",
       "Parch            7\n",
       "Pclass           3\n",
       "Embarked         3\n",
       "Survived         2\n",
       "Sex              2\n",
       "dtype: int64"
      ]
     },
     "execution_count": 133,
     "metadata": {},
     "output_type": "execute_result"
    }
   ],
   "source": [
    "#Verifico a cardinalidade dos dados\n",
    "df_treino.nunique().sort_values(ascending=False)"
   ]
  },
  {
   "cell_type": "markdown",
   "metadata": {},
   "source": [
    "- colunas com alta cardinalidade não vão ajudar o modelo pois podem torna-lo menos generalizavel. Nesse caso, vamos eliminar essas colunas"
   ]
  },
  {
   "cell_type": "code",
   "execution_count": 134,
   "metadata": {},
   "outputs": [],
   "source": [
    "#Deletando colunas\n",
    "df_treino = df_treino.drop(columns=[\"Name\", \"Ticket\", \"Cabin\"])\n",
    "df_teste = df_teste.drop(columns=[\"Name\", \"Ticket\", \"Cabin\"])"
   ]
  },
  {
   "cell_type": "markdown",
   "metadata": {},
   "source": [
    "- Coluna Age possui valores vazios e isso não pode ocorrer, para solucionar isso vamos colocar onde está vazio a media de idade dos tripulantes"
   ]
  },
  {
   "cell_type": "code",
   "execution_count": 135,
   "metadata": {},
   "outputs": [],
   "source": [
    "#Trato os valores vazios da coluna Age nos 2 df's\n",
    "df_treino.loc[df_treino.Age.isnull(), \"Age\"] = df_treino.Age.mean()\n",
    "df_teste.loc[df_teste.Age.isnull(), \"Age\"] = df_teste.Age.mean()"
   ]
  },
  {
   "cell_type": "markdown",
   "metadata": {},
   "source": [
    "- Para a base de treino, ainda temos 2 valores vazios na coluna Embarked\n",
    "- Podemos verificar todos os valores nessa coluna e substituir os valores vazios pela moda"
   ]
  },
  {
   "cell_type": "code",
   "execution_count": 136,
   "metadata": {},
   "outputs": [
    {
     "data": {
      "text/plain": [
       "'S'"
      ]
     },
     "execution_count": 136,
     "metadata": {},
     "output_type": "execute_result"
    }
   ],
   "source": [
    "df_treino.Embarked.mode()[0]"
   ]
  },
  {
   "cell_type": "code",
   "execution_count": 137,
   "metadata": {},
   "outputs": [],
   "source": [
    "df_treino.loc[df_treino.Embarked.isnull(), \"Embarked\"] = df_treino.Embarked.mode()[0]"
   ]
  },
  {
   "cell_type": "markdown",
   "metadata": {},
   "source": [
    "- Para finalizar, para a base de teste ainda temos 1 valor vazio em Fare\n",
    "- Podemos utilizar a mesma lógica que fizemos para a coluna Age e substituir pela moda."
   ]
  },
  {
   "cell_type": "code",
   "execution_count": 138,
   "metadata": {},
   "outputs": [],
   "source": [
    "df_teste.loc[df_teste.Fare.isnull(), \"Fare\"] = df_teste.Fare.mean()"
   ]
  },
  {
   "cell_type": "markdown",
   "metadata": {},
   "source": [
    "**Verifico Novamente se Há Valores Vazios**"
   ]
  },
  {
   "cell_type": "code",
   "execution_count": 139,
   "metadata": {},
   "outputs": [
    {
     "data": {
      "text/plain": [
       "PassengerId    0\n",
       "Survived       0\n",
       "Pclass         0\n",
       "Sex            0\n",
       "Age            0\n",
       "dtype: int64"
      ]
     },
     "execution_count": 139,
     "metadata": {},
     "output_type": "execute_result"
    }
   ],
   "source": [
    "df_treino.isnull().sum().sort_values(ascending=False).head(5)\n"
   ]
  },
  {
   "cell_type": "code",
   "execution_count": 140,
   "metadata": {},
   "outputs": [
    {
     "data": {
      "text/plain": [
       "PassengerId    0\n",
       "Pclass         0\n",
       "Sex            0\n",
       "Age            0\n",
       "SibSp          0\n",
       "dtype: int64"
      ]
     },
     "execution_count": 140,
     "metadata": {},
     "output_type": "execute_result"
    }
   ],
   "source": [
    "df_teste.isnull().sum().sort_values(ascending=False).head(5)"
   ]
  },
  {
   "cell_type": "markdown",
   "metadata": {},
   "source": [
    "**Considerando Apenas as Colunas que não são de Texto**"
   ]
  },
  {
   "cell_type": "code",
   "execution_count": 141,
   "metadata": {},
   "outputs": [],
   "source": [
    "col_treino = df_treino.columns[df_treino.dtypes != 'object']\n",
    "col_teste = df_teste.columns[df_teste.dtypes != 'object']\n",
    "\n",
    "df_treino_nr = df_treino.loc[:,col_treino]\n",
    "df_teste_nr = df_teste.loc[:,col_teste]"
   ]
  },
  {
   "cell_type": "markdown",
   "metadata": {},
   "source": [
    "**Começo dos modelos de classficação**"
   ]
  },
  {
   "cell_type": "code",
   "execution_count": 142,
   "metadata": {},
   "outputs": [],
   "source": [
    "# Importando o train_test_split\n",
    "\n",
    "from sklearn.model_selection import train_test_split    "
   ]
  },
  {
   "cell_type": "code",
   "execution_count": 143,
   "metadata": {},
   "outputs": [],
   "source": [
    "# Separando a base de treino em X e y\n",
    "\n",
    "X = df_treino_nr.drop(columns=['PassengerId','Survived'])\n",
    "y = df_treino.Survived"
   ]
  },
  {
   "cell_type": "code",
   "execution_count": 144,
   "metadata": {},
   "outputs": [],
   "source": [
    "# Separando em treino e validação\n",
    "\n",
    "X_treino, X_validacao, y_treino, y_validacao = train_test_split(X, y, test_size=0.33, random_state=42)"
   ]
  },
  {
   "cell_type": "markdown",
   "metadata": {},
   "source": [
    "- Trabalhando com Arvore de Classificação"
   ]
  },
  {
   "cell_type": "code",
   "execution_count": 145,
   "metadata": {},
   "outputs": [],
   "source": [
    "# Fazendo a importação\n",
    "from sklearn import tree\n",
    "\n",
    "# Criando o classificador\n",
    "classficacao_ac = tree.DecisionTreeClassifier(random_state=42)\n",
    "\n",
    "# Fazendo o fit com os dados\n",
    "classficacao_ac  = classficacao_ac.fit(X_treino,y_treino)\n",
    "\n",
    "# Fazendo a previsão\n",
    "y_previsao_ac = classficacao_ac.predict(X_validacao)"
   ]
  },
  {
   "cell_type": "markdown",
   "metadata": {},
   "source": [
    "- Para o KNeighborsClassifier"
   ]
  },
  {
   "cell_type": "code",
   "execution_count": 146,
   "metadata": {},
   "outputs": [],
   "source": [
    "# Importando\n",
    "from sklearn.neighbors import KNeighborsClassifier\n",
    "\n",
    "# Criando o classificador\n",
    "classficacao_knn = KNeighborsClassifier(n_neighbors=3)\n",
    "\n",
    "# Fazendo o fit com os dados\n",
    "classficacao_knn = classficacao_knn.fit(X_treino,y_treino)\n",
    "\n",
    "# Fazendo a previsão\n",
    "y_previsao_knn = classficacao_knn.predict(X_validacao)"
   ]
  },
  {
   "cell_type": "markdown",
   "metadata": {},
   "source": [
    "- E para a Regressão Logística"
   ]
  },
  {
   "cell_type": "code",
   "execution_count": 147,
   "metadata": {},
   "outputs": [],
   "source": [
    "# Importando\n",
    "from sklearn.linear_model import LogisticRegression\n",
    "\n",
    "# Criando o classificador\n",
    "classificacao_rl = LogisticRegression(random_state=42)\n",
    "\n",
    "# Fazendo o fit com os dados\n",
    "classificacao_rl = classificacao_rl.fit(X_treino,y_treino)\n",
    "\n",
    "# Fazendo a previsão\n",
    "y_previsao_rl = classificacao_rl.predict(X_validacao)"
   ]
  },
  {
   "cell_type": "markdown",
   "metadata": {},
   "source": [
    "**Avaliação esses modelos**"
   ]
  },
  {
   "cell_type": "code",
   "execution_count": 148,
   "metadata": {},
   "outputs": [],
   "source": [
    "# Importando\n",
    "from sklearn.metrics import accuracy_score"
   ]
  },
  {
   "cell_type": "code",
   "execution_count": 149,
   "metadata": {},
   "outputs": [
    {
     "data": {
      "text/plain": [
       "0.6169491525423729"
      ]
     },
     "execution_count": 149,
     "metadata": {},
     "output_type": "execute_result"
    }
   ],
   "source": [
    "# Para a árvore\n",
    "accuracy_score(y_validacao, y_previsao_ac)"
   ]
  },
  {
   "cell_type": "code",
   "execution_count": 150,
   "metadata": {},
   "outputs": [
    {
     "data": {
      "text/plain": [
       "0.6542372881355932"
      ]
     },
     "execution_count": 150,
     "metadata": {},
     "output_type": "execute_result"
    }
   ],
   "source": [
    "# Para o knn\n",
    "accuracy_score(y_validacao, y_previsao_knn)"
   ]
  },
  {
   "cell_type": "code",
   "execution_count": 151,
   "metadata": {},
   "outputs": [
    {
     "data": {
      "text/plain": [
       "0.7254237288135593"
      ]
     },
     "execution_count": 151,
     "metadata": {},
     "output_type": "execute_result"
    }
   ],
   "source": [
    "# Para a regressão logística\n",
    "accuracy_score(y_validacao, y_previsao_rl)"
   ]
  },
  {
   "cell_type": "markdown",
   "metadata": {},
   "source": [
    "**Avaliação de matriz de confusão**"
   ]
  },
  {
   "cell_type": "code",
   "execution_count": 152,
   "metadata": {},
   "outputs": [],
   "source": [
    "# Importando\n",
    "from sklearn.metrics import confusion_matrix"
   ]
  },
  {
   "cell_type": "code",
   "execution_count": 153,
   "metadata": {},
   "outputs": [
    {
     "data": {
      "text/plain": [
       "array([[125,  50],\n",
       "       [ 63,  57]], dtype=int64)"
      ]
     },
     "execution_count": 153,
     "metadata": {},
     "output_type": "execute_result"
    }
   ],
   "source": [
    "# Para a árvore\n",
    "confusion_matrix(y_validacao, y_previsao_ac)"
   ]
  },
  {
   "cell_type": "code",
   "execution_count": 154,
   "metadata": {},
   "outputs": [
    {
     "data": {
      "text/plain": [
       "array([[133,  42],\n",
       "       [ 60,  60]], dtype=int64)"
      ]
     },
     "execution_count": 154,
     "metadata": {},
     "output_type": "execute_result"
    }
   ],
   "source": [
    "# Para o knn\n",
    "confusion_matrix(y_validacao, y_previsao_knn)"
   ]
  },
  {
   "cell_type": "code",
   "execution_count": 155,
   "metadata": {},
   "outputs": [
    {
     "data": {
      "text/plain": [
       "array([[156,  19],\n",
       "       [ 62,  58]], dtype=int64)"
      ]
     },
     "execution_count": 155,
     "metadata": {},
     "output_type": "execute_result"
    }
   ],
   "source": [
    "# Para a regressão logística\n",
    "confusion_matrix(y_validacao, y_previsao_rl)"
   ]
  },
  {
   "cell_type": "markdown",
   "metadata": {},
   "source": [
    "**Previsão para com os Dados de Teste**"
   ]
  },
  {
   "cell_type": "code",
   "execution_count": 156,
   "metadata": {},
   "outputs": [
    {
     "data": {
      "text/html": [
       "<div>\n",
       "<style scoped>\n",
       "    .dataframe tbody tr th:only-of-type {\n",
       "        vertical-align: middle;\n",
       "    }\n",
       "\n",
       "    .dataframe tbody tr th {\n",
       "        vertical-align: top;\n",
       "    }\n",
       "\n",
       "    .dataframe thead th {\n",
       "        text-align: right;\n",
       "    }\n",
       "</style>\n",
       "<table border=\"1\" class=\"dataframe\">\n",
       "  <thead>\n",
       "    <tr style=\"text-align: right;\">\n",
       "      <th></th>\n",
       "      <th>Pclass</th>\n",
       "      <th>Age</th>\n",
       "      <th>SibSp</th>\n",
       "      <th>Parch</th>\n",
       "      <th>Fare</th>\n",
       "    </tr>\n",
       "  </thead>\n",
       "  <tbody>\n",
       "    <tr>\n",
       "      <th>6</th>\n",
       "      <td>1</td>\n",
       "      <td>54.000000</td>\n",
       "      <td>0</td>\n",
       "      <td>0</td>\n",
       "      <td>51.8625</td>\n",
       "    </tr>\n",
       "    <tr>\n",
       "      <th>718</th>\n",
       "      <td>3</td>\n",
       "      <td>29.699118</td>\n",
       "      <td>0</td>\n",
       "      <td>0</td>\n",
       "      <td>15.5000</td>\n",
       "    </tr>\n",
       "    <tr>\n",
       "      <th>685</th>\n",
       "      <td>2</td>\n",
       "      <td>25.000000</td>\n",
       "      <td>1</td>\n",
       "      <td>2</td>\n",
       "      <td>41.5792</td>\n",
       "    </tr>\n",
       "  </tbody>\n",
       "</table>\n",
       "</div>"
      ],
      "text/plain": [
       "     Pclass        Age  SibSp  Parch     Fare\n",
       "6         1  54.000000      0      0  51.8625\n",
       "718       3  29.699118      0      0  15.5000\n",
       "685       2  25.000000      1      2  41.5792"
      ]
     },
     "execution_count": 156,
     "metadata": {},
     "output_type": "execute_result"
    }
   ],
   "source": [
    "# Visualizando o X_treino\n",
    "\n",
    "X_treino.head(3)"
   ]
  },
  {
   "cell_type": "code",
   "execution_count": 157,
   "metadata": {},
   "outputs": [
    {
     "data": {
      "text/html": [
       "<div>\n",
       "<style scoped>\n",
       "    .dataframe tbody tr th:only-of-type {\n",
       "        vertical-align: middle;\n",
       "    }\n",
       "\n",
       "    .dataframe tbody tr th {\n",
       "        vertical-align: top;\n",
       "    }\n",
       "\n",
       "    .dataframe thead th {\n",
       "        text-align: right;\n",
       "    }\n",
       "</style>\n",
       "<table border=\"1\" class=\"dataframe\">\n",
       "  <thead>\n",
       "    <tr style=\"text-align: right;\">\n",
       "      <th></th>\n",
       "      <th>PassengerId</th>\n",
       "      <th>Pclass</th>\n",
       "      <th>Age</th>\n",
       "      <th>SibSp</th>\n",
       "      <th>Parch</th>\n",
       "      <th>Fare</th>\n",
       "    </tr>\n",
       "  </thead>\n",
       "  <tbody>\n",
       "    <tr>\n",
       "      <th>0</th>\n",
       "      <td>892</td>\n",
       "      <td>3</td>\n",
       "      <td>34.5</td>\n",
       "      <td>0</td>\n",
       "      <td>0</td>\n",
       "      <td>7.8292</td>\n",
       "    </tr>\n",
       "    <tr>\n",
       "      <th>1</th>\n",
       "      <td>893</td>\n",
       "      <td>3</td>\n",
       "      <td>47.0</td>\n",
       "      <td>1</td>\n",
       "      <td>0</td>\n",
       "      <td>7.0000</td>\n",
       "    </tr>\n",
       "    <tr>\n",
       "      <th>2</th>\n",
       "      <td>894</td>\n",
       "      <td>2</td>\n",
       "      <td>62.0</td>\n",
       "      <td>0</td>\n",
       "      <td>0</td>\n",
       "      <td>9.6875</td>\n",
       "    </tr>\n",
       "  </tbody>\n",
       "</table>\n",
       "</div>"
      ],
      "text/plain": [
       "   PassengerId  Pclass   Age  SibSp  Parch    Fare\n",
       "0          892       3  34.5      0      0  7.8292\n",
       "1          893       3  47.0      1      0  7.0000\n",
       "2          894       2  62.0      0      0  9.6875"
      ]
     },
     "execution_count": 157,
     "metadata": {},
     "output_type": "execute_result"
    }
   ],
   "source": [
    "# Visualizando a base de teste (apenas com valores numéricos)\n",
    "\n",
    "df_teste_nr.head(3)"
   ]
  },
  {
   "cell_type": "code",
   "execution_count": 158,
   "metadata": {},
   "outputs": [],
   "source": [
    "# Para a base de teste ser igual a base de treino, precisamos eliminar a coluna de id\n",
    "X_teste = df_teste_nr.drop(\"PassengerId\",axis=1)"
   ]
  },
  {
   "cell_type": "code",
   "execution_count": 159,
   "metadata": {},
   "outputs": [],
   "source": [
    "# Utilizando a regressão logística na base de teste\n",
    "y_previsao = classificacao_rl.predict(X_teste)"
   ]
  },
  {
   "cell_type": "code",
   "execution_count": null,
   "metadata": {},
   "outputs": [],
   "source": [
    "# Criando uma coluna com a previsão na base de teste\n",
    "teste['Survived'] = y_previsao"
   ]
  },
  {
   "cell_type": "code",
   "execution_count": null,
   "metadata": {},
   "outputs": [],
   "source": [
    "# Selecionando apenas a coluna de Id e Survived para fazer o envio\n",
    "df_base_envio = teste[['PassengerId','Survived']]"
   ]
  }
 ],
 "metadata": {
  "kernelspec": {
   "display_name": "Python 3",
   "language": "python",
   "name": "python3"
  },
  "language_info": {
   "codemirror_mode": {
    "name": "ipython",
    "version": 3
   },
   "file_extension": ".py",
   "mimetype": "text/x-python",
   "name": "python",
   "nbconvert_exporter": "python",
   "pygments_lexer": "ipython3",
   "version": "3.11.1"
  },
  "orig_nbformat": 4
 },
 "nbformat": 4,
 "nbformat_minor": 2
}
